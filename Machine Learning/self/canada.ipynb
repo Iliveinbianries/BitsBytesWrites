{
 "cells": [
  {
   "cell_type": "code",
   "execution_count": 2,
   "id": "0b266090-443e-4c02-8cc2-70b5f2f9bfa2",
   "metadata": {},
   "outputs": [],
   "source": [
    "import pandas as pd\n",
    "import numpy as np\n",
    "from sklearn import linear_model\n",
    "from sklearn import  model_selection\n",
    "import matplotlib.pyplot as plt"
   ]
  },
  {
   "cell_type": "code",
   "execution_count": 3,
   "id": "3323ba29-9198-4d40-8400-2ee12fefd3f0",
   "metadata": {},
   "outputs": [],
   "source": [
    "df=pd.read_csv('canada.csv')"
   ]
  },
  {
   "cell_type": "code",
   "execution_count": null,
   "id": "81bad820-93be-4e22-8baf-d8b79330044c",
   "metadata": {},
   "outputs": [],
   "source": [
    "df"
   ]
  },
  {
   "cell_type": "code",
   "execution_count": null,
   "id": "40940891-e7a5-41cb-9eac-1ea50fd94be9",
   "metadata": {},
   "outputs": [],
   "source": [
    "plt.xlabel('year')\n",
    "plt.ylabel('per capita income')\n",
    "plt.scatter(df['year'],df['per capita income'])"
   ]
  },
  {
   "cell_type": "code",
   "execution_count": null,
   "id": "246525a8-3da7-41b9-b8b3-367c0041d465",
   "metadata": {},
   "outputs": [],
   "source": [
    "x=df.drop(['per capita income'],axis=1)\n",
    "y=df['per capita income']"
   ]
  },
  {
   "cell_type": "code",
   "execution_count": null,
   "id": "88ca1237-a08c-4a3e-877d-9dfa976d6172",
   "metadata": {},
   "outputs": [],
   "source": [
    "clf=linear_model.LinearRegression()"
   ]
  },
  {
   "cell_type": "code",
   "execution_count": null,
   "id": "7ec79440-0567-428b-ba55-c30a98d316ca",
   "metadata": {},
   "outputs": [],
   "source": [
    "clf.fit(x,y)"
   ]
  },
  {
   "cell_type": "code",
   "execution_count": null,
   "id": "9d2dbf3d-0363-4b75-b34f-b6e726dc0494",
   "metadata": {},
   "outputs": [],
   "source": [
    "clf.predict([[2020]])"
   ]
  },
  {
   "cell_type": "code",
   "execution_count": null,
   "id": "92778c71-2fbe-455a-a85b-06ad24f34a4e",
   "metadata": {},
   "outputs": [],
   "source": []
  },
  {
   "cell_type": "code",
   "execution_count": null,
   "id": "0f3b5ce4-18f2-460a-9c24-4161b6822e54",
   "metadata": {},
   "outputs": [],
   "source": []
  }
 ],
 "metadata": {
  "kernelspec": {
   "display_name": "Python 3 (ipykernel)",
   "language": "python",
   "name": "python3"
  },
  "language_info": {
   "codemirror_mode": {
    "name": "ipython",
    "version": 3
   },
   "file_extension": ".py",
   "mimetype": "text/x-python",
   "name": "python",
   "nbconvert_exporter": "python",
   "pygments_lexer": "ipython3",
   "version": "3.11.4"
  }
 },
 "nbformat": 4,
 "nbformat_minor": 5
}
